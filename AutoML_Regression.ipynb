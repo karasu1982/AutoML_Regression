{
  "nbformat": 4,
  "nbformat_minor": 0,
  "metadata": {
    "colab": {
      "provenance": [],
      "collapsed_sections": [
        "2jv_tByldGXq",
        "7cQNfKn9DEAY",
        "TA9h8Nw4FWPo",
        "5iWqSu3qqc0V",
        "kBSKJFJSQFzp",
        "af6kdZzKew8h",
        "NSQG8ABxfbaw"
      ],
      "include_colab_link": true
    },
    "kernelspec": {
      "name": "python3",
      "display_name": "Python 3"
    }
  },
  "cells": [
    {
      "cell_type": "markdown",
      "metadata": {
        "id": "view-in-github",
        "colab_type": "text"
      },
      "source": [
        "<a href=\"https://colab.research.google.com/github/karasu1982/AutoML_Regression/blob/main/AutoML_Regression.ipynb\" target=\"_parent\"><img src=\"https://colab.research.google.com/assets/colab-badge.svg\" alt=\"Open In Colab\"/></a>"
      ]
    },
    {
      "cell_type": "markdown",
      "source": [
        "# 環境設定"
      ],
      "metadata": {
        "id": "mUO49rs6DftF"
      }
    },
    {
      "cell_type": "code",
      "source": [
        "!pip install -U pip\n",
        "!pip install -U setuptools wheel\n",
        "!pip install autogluon==0.5.0"
      ],
      "metadata": {
        "id": "tIiizo8bEM1X"
      },
      "execution_count": null,
      "outputs": []
    },
    {
      "cell_type": "code",
      "source": [
        "!pip install ephem\n",
        "!pip install pystan\n",
        "!pip install prophet"
      ],
      "metadata": {
        "id": "LayguS53aLRF"
      },
      "execution_count": null,
      "outputs": []
    },
    {
      "cell_type": "code",
      "metadata": {
        "id": "H9QuXgY_Pa7I",
        "colab": {
          "base_uri": "https://localhost:8080/"
        },
        "outputId": "4feaecc8-d4e3-4a79-9159-967a70516d6a"
      },
      "source": [
        "!pip install salesforce-merlion"
      ],
      "execution_count": 97,
      "outputs": [
        {
          "output_type": "stream",
          "name": "stdout",
          "text": [
            "Looking in indexes: https://pypi.org/simple, https://us-python.pkg.dev/colab-wheels/public/simple/\n",
            "Collecting salesforce-merlion\n",
            "  Downloading salesforce_merlion-1.3.1-py3-none-any.whl (565 kB)\n",
            "\u001b[2K     \u001b[90m━━━━━━━━━━━━━━━━━━━━━━━━━━━━━━━━━━━━━━\u001b[0m \u001b[32m565.9/565.9 kB\u001b[0m \u001b[31m15.6 MB/s\u001b[0m eta \u001b[36m0:00:00\u001b[0m\n",
            "\u001b[?25hRequirement already satisfied: scikit-learn>=0.22 in /usr/local/lib/python3.7/dist-packages (from salesforce-merlion) (1.0.2)\n",
            "Requirement already satisfied: scipy>=1.6.0 in /usr/local/lib/python3.7/dist-packages (from salesforce-merlion) (1.7.3)\n",
            "Requirement already satisfied: statsmodels>=0.12.2 in /usr/local/lib/python3.7/dist-packages (from salesforce-merlion) (0.13.2)\n",
            "Requirement already satisfied: dill in /usr/local/lib/python3.7/dist-packages (from salesforce-merlion) (0.3.5.1)\n",
            "Requirement already satisfied: pandas>=1.1.0 in /usr/local/lib/python3.7/dist-packages (from salesforce-merlion) (1.3.5)\n",
            "Requirement already satisfied: py4j in /usr/local/lib/python3.7/dist-packages (from salesforce-merlion) (0.10.9.7)\n",
            "Requirement already satisfied: prophet>=1.1 in /usr/local/lib/python3.7/dist-packages (from salesforce-merlion) (1.1.1)\n",
            "Requirement already satisfied: numpy>=1.21 in /usr/local/lib/python3.7/dist-packages (from salesforce-merlion) (1.21.6)\n",
            "Requirement already satisfied: packaging in /usr/local/lib/python3.7/dist-packages (from salesforce-merlion) (21.3)\n",
            "Requirement already satisfied: lightgbm in /usr/local/lib/python3.7/dist-packages (from salesforce-merlion) (3.3.3)\n",
            "Requirement already satisfied: tqdm in /usr/local/lib/python3.7/dist-packages (from salesforce-merlion) (4.64.1)\n",
            "Requirement already satisfied: matplotlib in /usr/local/lib/python3.7/dist-packages (from salesforce-merlion) (3.5.3)\n",
            "Requirement already satisfied: cython in /usr/local/lib/python3.7/dist-packages (from salesforce-merlion) (0.29.32)\n",
            "Collecting GitPython\n",
            "  Downloading GitPython-3.1.29-py3-none-any.whl (182 kB)\n",
            "\u001b[2K     \u001b[90m━━━━━━━━━━━━━━━━━━━━━━━━━━━━━━━━━━━━━━\u001b[0m \u001b[32m182.5/182.5 kB\u001b[0m \u001b[31m21.6 MB/s\u001b[0m eta \u001b[36m0:00:00\u001b[0m\n",
            "\u001b[?25hRequirement already satisfied: pytz>=2017.3 in /usr/local/lib/python3.7/dist-packages (from pandas>=1.1.0->salesforce-merlion) (2022.5)\n",
            "Requirement already satisfied: python-dateutil>=2.7.3 in /usr/local/lib/python3.7/dist-packages (from pandas>=1.1.0->salesforce-merlion) (2.8.2)\n",
            "Requirement already satisfied: cmdstanpy>=1.0.4 in /usr/local/lib/python3.7/dist-packages (from prophet>=1.1->salesforce-merlion) (1.0.8)\n",
            "Requirement already satisfied: wheel>=0.37.0 in /usr/local/lib/python3.7/dist-packages (from prophet>=1.1->salesforce-merlion) (0.37.1)\n",
            "Requirement already satisfied: convertdate>=2.1.2 in /usr/local/lib/python3.7/dist-packages (from prophet>=1.1->salesforce-merlion) (2.4.0)\n",
            "Requirement already satisfied: setuptools>=42 in /usr/local/lib/python3.7/dist-packages (from prophet>=1.1->salesforce-merlion) (65.5.0)\n",
            "Requirement already satisfied: LunarCalendar>=0.0.9 in /usr/local/lib/python3.7/dist-packages (from prophet>=1.1->salesforce-merlion) (0.0.9)\n",
            "Requirement already satisfied: holidays>=0.14.2 in /usr/local/lib/python3.7/dist-packages (from prophet>=1.1->salesforce-merlion) (0.16)\n",
            "Requirement already satisfied: setuptools-git>=1.2 in /usr/local/lib/python3.7/dist-packages (from prophet>=1.1->salesforce-merlion) (1.2)\n",
            "Requirement already satisfied: pillow>=6.2.0 in /usr/local/lib/python3.7/dist-packages (from matplotlib->salesforce-merlion) (9.0.1)\n",
            "Requirement already satisfied: cycler>=0.10 in /usr/local/lib/python3.7/dist-packages (from matplotlib->salesforce-merlion) (0.11.0)\n",
            "Requirement already satisfied: pyparsing>=2.2.1 in /usr/local/lib/python3.7/dist-packages (from matplotlib->salesforce-merlion) (3.0.9)\n",
            "Requirement already satisfied: fonttools>=4.22.0 in /usr/local/lib/python3.7/dist-packages (from matplotlib->salesforce-merlion) (4.38.0)\n",
            "Requirement already satisfied: kiwisolver>=1.0.1 in /usr/local/lib/python3.7/dist-packages (from matplotlib->salesforce-merlion) (1.4.4)\n",
            "Requirement already satisfied: joblib>=0.11 in /usr/local/lib/python3.7/dist-packages (from scikit-learn>=0.22->salesforce-merlion) (1.2.0)\n",
            "Requirement already satisfied: threadpoolctl>=2.0.0 in /usr/local/lib/python3.7/dist-packages (from scikit-learn>=0.22->salesforce-merlion) (3.1.0)\n",
            "Requirement already satisfied: patsy>=0.5.2 in /usr/local/lib/python3.7/dist-packages (from statsmodels>=0.12.2->salesforce-merlion) (0.5.3)\n",
            "Requirement already satisfied: typing-extensions>=3.7.4.3 in /usr/local/lib/python3.7/dist-packages (from GitPython->salesforce-merlion) (4.1.1)\n",
            "Collecting gitdb<5,>=4.0.1\n",
            "  Downloading gitdb-4.0.9-py3-none-any.whl (63 kB)\n",
            "\u001b[2K     \u001b[90m━━━━━━━━━━━━━━━━━━━━━━━━━━━━━━━━━━━━━━━━\u001b[0m \u001b[32m63.1/63.1 kB\u001b[0m \u001b[31m6.7 MB/s\u001b[0m eta \u001b[36m0:00:00\u001b[0m\n",
            "\u001b[?25hRequirement already satisfied: pymeeus<=1,>=0.3.13 in /usr/local/lib/python3.7/dist-packages (from convertdate>=2.1.2->prophet>=1.1->salesforce-merlion) (0.5.11)\n",
            "Collecting smmap<6,>=3.0.1\n",
            "  Downloading smmap-5.0.0-py3-none-any.whl (24 kB)\n",
            "Requirement already satisfied: korean-lunar-calendar in /usr/local/lib/python3.7/dist-packages (from holidays>=0.14.2->prophet>=1.1->salesforce-merlion) (0.3.1)\n",
            "Requirement already satisfied: hijri-converter in /usr/local/lib/python3.7/dist-packages (from holidays>=0.14.2->prophet>=1.1->salesforce-merlion) (2.2.4)\n",
            "Requirement already satisfied: ephem>=3.7.5.3 in /usr/local/lib/python3.7/dist-packages (from LunarCalendar>=0.0.9->prophet>=1.1->salesforce-merlion) (4.1.3)\n",
            "Requirement already satisfied: six in /usr/local/lib/python3.7/dist-packages (from patsy>=0.5.2->statsmodels>=0.12.2->salesforce-merlion) (1.15.0)\n",
            "Installing collected packages: smmap, gitdb, GitPython, salesforce-merlion\n",
            "Successfully installed GitPython-3.1.29 gitdb-4.0.9 salesforce-merlion-1.3.1 smmap-5.0.0\n",
            "\u001b[33mWARNING: Running pip as the 'root' user can result in broken permissions and conflicting behaviour with the system package manager. It is recommended to use a virtual environment instead: https://pip.pypa.io/warnings/venv\u001b[0m\u001b[33m\n",
            "\u001b[0m"
          ]
        }
      ]
    },
    {
      "cell_type": "code",
      "source": [
        "# 標準ライブラリ\n",
        "import pandas as pd\n",
        "import numpy as np\n",
        "\n",
        "# 分析用ライブラリ\n",
        "from sklearn.model_selection import train_test_split\n",
        "\n",
        "# データ見える化\n",
        "import seaborn as sns\n",
        "import matplotlib.pyplot as plt"
      ],
      "metadata": {
        "id": "DFJPKOKqTZgM"
      },
      "execution_count": 56,
      "outputs": []
    },
    {
      "cell_type": "markdown",
      "metadata": {
        "id": "HvZJKJBDrZAv"
      },
      "source": [
        "# データ準備・加工"
      ]
    },
    {
      "cell_type": "markdown",
      "source": [
        "## データ準備\n",
        "\n",
        "ID-POSのサンプルデータとして、下記を利用\n",
        "\n",
        "https://www.kyoritsu-pub.co.jp/book/b10003634.html"
      ],
      "metadata": {
        "id": "mBLPouZ1Sdmc"
      }
    },
    {
      "cell_type": "code",
      "source": [
        "!wget https://kyoritsu-pub.sakura.ne.jp/app/file/goods_contents/2319.zip\n",
        "!unzip /content/2319.zip\n",
        "!unzip /content/DataProcess.20151001/src/data/Tafeng/Tafeng.zip"
      ],
      "metadata": {
        "id": "HX-PPH9NKnSP"
      },
      "execution_count": null,
      "outputs": []
    },
    {
      "cell_type": "code",
      "source": [
        "df = pd.read_csv(\"/content/Tafeng_dataset/Tafeng.csv\")"
      ],
      "metadata": {
        "id": "xZRgSJhdLoiA"
      },
      "execution_count": 27,
      "outputs": []
    },
    {
      "cell_type": "code",
      "source": [
        "df.head(3)"
      ],
      "metadata": {
        "colab": {
          "base_uri": "https://localhost:8080/",
          "height": 143
        },
        "id": "GDP79VHaRcNF",
        "outputId": "b314d368-9501-47e6-d2ab-a1552c9a353c"
      },
      "execution_count": 29,
      "outputs": [
        {
          "output_type": "execute_result",
          "data": {
            "text/plain": [
              "                  Time  CustID Age Area  ProductSubClass      ProductID  \\\n",
              "0  2000-11-01 00:00:00   46855  D    E            110411  4710085120468   \n",
              "1  2000-11-01 00:00:00  539166  E    E            130315  4714981010038   \n",
              "2  2000-11-01 00:00:00  663373  F    E            110217  4710265847666   \n",
              "\n",
              "   Amount  Asset  SalesPrice  \n",
              "0       3     51          57  \n",
              "1       2     56          48  \n",
              "2       1    180         135  "
            ],
            "text/html": [
              "\n",
              "  <div id=\"df-1ce476d7-1450-479a-9551-918114d8841a\">\n",
              "    <div class=\"colab-df-container\">\n",
              "      <div>\n",
              "<style scoped>\n",
              "    .dataframe tbody tr th:only-of-type {\n",
              "        vertical-align: middle;\n",
              "    }\n",
              "\n",
              "    .dataframe tbody tr th {\n",
              "        vertical-align: top;\n",
              "    }\n",
              "\n",
              "    .dataframe thead th {\n",
              "        text-align: right;\n",
              "    }\n",
              "</style>\n",
              "<table border=\"1\" class=\"dataframe\">\n",
              "  <thead>\n",
              "    <tr style=\"text-align: right;\">\n",
              "      <th></th>\n",
              "      <th>Time</th>\n",
              "      <th>CustID</th>\n",
              "      <th>Age</th>\n",
              "      <th>Area</th>\n",
              "      <th>ProductSubClass</th>\n",
              "      <th>ProductID</th>\n",
              "      <th>Amount</th>\n",
              "      <th>Asset</th>\n",
              "      <th>SalesPrice</th>\n",
              "    </tr>\n",
              "  </thead>\n",
              "  <tbody>\n",
              "    <tr>\n",
              "      <th>0</th>\n",
              "      <td>2000-11-01 00:00:00</td>\n",
              "      <td>46855</td>\n",
              "      <td>D</td>\n",
              "      <td>E</td>\n",
              "      <td>110411</td>\n",
              "      <td>4710085120468</td>\n",
              "      <td>3</td>\n",
              "      <td>51</td>\n",
              "      <td>57</td>\n",
              "    </tr>\n",
              "    <tr>\n",
              "      <th>1</th>\n",
              "      <td>2000-11-01 00:00:00</td>\n",
              "      <td>539166</td>\n",
              "      <td>E</td>\n",
              "      <td>E</td>\n",
              "      <td>130315</td>\n",
              "      <td>4714981010038</td>\n",
              "      <td>2</td>\n",
              "      <td>56</td>\n",
              "      <td>48</td>\n",
              "    </tr>\n",
              "    <tr>\n",
              "      <th>2</th>\n",
              "      <td>2000-11-01 00:00:00</td>\n",
              "      <td>663373</td>\n",
              "      <td>F</td>\n",
              "      <td>E</td>\n",
              "      <td>110217</td>\n",
              "      <td>4710265847666</td>\n",
              "      <td>1</td>\n",
              "      <td>180</td>\n",
              "      <td>135</td>\n",
              "    </tr>\n",
              "  </tbody>\n",
              "</table>\n",
              "</div>\n",
              "      <button class=\"colab-df-convert\" onclick=\"convertToInteractive('df-1ce476d7-1450-479a-9551-918114d8841a')\"\n",
              "              title=\"Convert this dataframe to an interactive table.\"\n",
              "              style=\"display:none;\">\n",
              "        \n",
              "  <svg xmlns=\"http://www.w3.org/2000/svg\" height=\"24px\"viewBox=\"0 0 24 24\"\n",
              "       width=\"24px\">\n",
              "    <path d=\"M0 0h24v24H0V0z\" fill=\"none\"/>\n",
              "    <path d=\"M18.56 5.44l.94 2.06.94-2.06 2.06-.94-2.06-.94-.94-2.06-.94 2.06-2.06.94zm-11 1L8.5 8.5l.94-2.06 2.06-.94-2.06-.94L8.5 2.5l-.94 2.06-2.06.94zm10 10l.94 2.06.94-2.06 2.06-.94-2.06-.94-.94-2.06-.94 2.06-2.06.94z\"/><path d=\"M17.41 7.96l-1.37-1.37c-.4-.4-.92-.59-1.43-.59-.52 0-1.04.2-1.43.59L10.3 9.45l-7.72 7.72c-.78.78-.78 2.05 0 2.83L4 21.41c.39.39.9.59 1.41.59.51 0 1.02-.2 1.41-.59l7.78-7.78 2.81-2.81c.8-.78.8-2.07 0-2.86zM5.41 20L4 18.59l7.72-7.72 1.47 1.35L5.41 20z\"/>\n",
              "  </svg>\n",
              "      </button>\n",
              "      \n",
              "  <style>\n",
              "    .colab-df-container {\n",
              "      display:flex;\n",
              "      flex-wrap:wrap;\n",
              "      gap: 12px;\n",
              "    }\n",
              "\n",
              "    .colab-df-convert {\n",
              "      background-color: #E8F0FE;\n",
              "      border: none;\n",
              "      border-radius: 50%;\n",
              "      cursor: pointer;\n",
              "      display: none;\n",
              "      fill: #1967D2;\n",
              "      height: 32px;\n",
              "      padding: 0 0 0 0;\n",
              "      width: 32px;\n",
              "    }\n",
              "\n",
              "    .colab-df-convert:hover {\n",
              "      background-color: #E2EBFA;\n",
              "      box-shadow: 0px 1px 2px rgba(60, 64, 67, 0.3), 0px 1px 3px 1px rgba(60, 64, 67, 0.15);\n",
              "      fill: #174EA6;\n",
              "    }\n",
              "\n",
              "    [theme=dark] .colab-df-convert {\n",
              "      background-color: #3B4455;\n",
              "      fill: #D2E3FC;\n",
              "    }\n",
              "\n",
              "    [theme=dark] .colab-df-convert:hover {\n",
              "      background-color: #434B5C;\n",
              "      box-shadow: 0px 1px 3px 1px rgba(0, 0, 0, 0.15);\n",
              "      filter: drop-shadow(0px 1px 2px rgba(0, 0, 0, 0.3));\n",
              "      fill: #FFFFFF;\n",
              "    }\n",
              "  </style>\n",
              "\n",
              "      <script>\n",
              "        const buttonEl =\n",
              "          document.querySelector('#df-1ce476d7-1450-479a-9551-918114d8841a button.colab-df-convert');\n",
              "        buttonEl.style.display =\n",
              "          google.colab.kernel.accessAllowed ? 'block' : 'none';\n",
              "\n",
              "        async function convertToInteractive(key) {\n",
              "          const element = document.querySelector('#df-1ce476d7-1450-479a-9551-918114d8841a');\n",
              "          const dataTable =\n",
              "            await google.colab.kernel.invokeFunction('convertToInteractive',\n",
              "                                                     [key], {});\n",
              "          if (!dataTable) return;\n",
              "\n",
              "          const docLinkHtml = 'Like what you see? Visit the ' +\n",
              "            '<a target=\"_blank\" href=https://colab.research.google.com/notebooks/data_table.ipynb>data table notebook</a>'\n",
              "            + ' to learn more about interactive tables.';\n",
              "          element.innerHTML = '';\n",
              "          dataTable['output_type'] = 'display_data';\n",
              "          await google.colab.output.renderOutput(dataTable, element);\n",
              "          const docLink = document.createElement('div');\n",
              "          docLink.innerHTML = docLinkHtml;\n",
              "          element.appendChild(docLink);\n",
              "        }\n",
              "      </script>\n",
              "    </div>\n",
              "  </div>\n",
              "  "
            ]
          },
          "metadata": {},
          "execution_count": 29
        }
      ]
    },
    {
      "cell_type": "markdown",
      "source": [
        "## データ加工"
      ],
      "metadata": {
        "id": "Uwn4pBmoSbii"
      }
    },
    {
      "cell_type": "code",
      "source": [
        "# 日別の集計データ\n",
        "df1 = df[['Time','SalesPrice']].groupby('Time').sum()\n",
        "df1 = df1.reset_index() # TimeをIndexではなく、項目化"
      ],
      "metadata": {
        "id": "XSLbvA8rSAZR"
      },
      "execution_count": 35,
      "outputs": []
    },
    {
      "cell_type": "code",
      "source": [
        "df1[\"Time\"] = pd.to_datetime(df1.Time, format=\"%Y-%m-%d\")"
      ],
      "metadata": {
        "id": "F6lQ01rTU_f_"
      },
      "execution_count": 44,
      "outputs": []
    },
    {
      "cell_type": "code",
      "source": [
        "# 曜日を日付から取得して、OneHotEncoding\n",
        "df1[\"DayOfWeek\"] = df1[\"Time\"].dt.day_name()\n",
        "df1 = pd.get_dummies(df1, columns=[\"DayOfWeek\"])\n",
        "\n",
        "# 月を日付から取得\n",
        "df1[\"Month\"] = df1[\"Time\"].dt.month"
      ],
      "metadata": {
        "id": "YL_PymaCUszK"
      },
      "execution_count": 47,
      "outputs": []
    },
    {
      "cell_type": "markdown",
      "source": [],
      "metadata": {
        "id": "Ol7IcmfRTLTL"
      }
    },
    {
      "cell_type": "code",
      "source": [
        "df1"
      ],
      "metadata": {
        "id": "1VC_rKnYTIZ9"
      },
      "execution_count": null,
      "outputs": []
    },
    {
      "cell_type": "code",
      "source": [
        "# 期間で訓練データとテストデータに分割\n",
        "\n",
        "df_train = df1[(df1[\"Time\"] <= \"2000-12-31\")]\n",
        "df_test = df1[(df1[\"Time\"] >= \"2001-01-01\")]"
      ],
      "metadata": {
        "id": "OcXE4i58ZDpn"
      },
      "execution_count": 103,
      "outputs": []
    },
    {
      "cell_type": "markdown",
      "source": [
        "# AutoGluon"
      ],
      "metadata": {
        "id": "vQAPFi9PSu6-"
      }
    },
    {
      "cell_type": "code",
      "source": [
        "from autogluon.tabular import TabularDataset, TabularPredictor"
      ],
      "metadata": {
        "id": "y-vpYbkPb6-4"
      },
      "execution_count": null,
      "outputs": []
    },
    {
      "cell_type": "code",
      "source": [
        "# 予測実施\n",
        "predictor = TabularPredictor(label='SalesPrice').fit(df_train, time_limit=600)"
      ],
      "metadata": {
        "colab": {
          "base_uri": "https://localhost:8080/"
        },
        "id": "yoWnxYzgWnWF",
        "outputId": "dfa87a79-7fde-4a4e-997b-71d284044b25"
      },
      "execution_count": 53,
      "outputs": [
        {
          "output_type": "stream",
          "name": "stderr",
          "text": [
            "Level 25:autogluon.common.utils.utils:No path specified. Models will be saved in: \"AutogluonModels/ag-20221030_052719/\"\n",
            "INFO:autogluon.tabular.learner.default_learner:Beginning AutoGluon training ... Time limit = 600s\n",
            "INFO:autogluon.tabular.learner.default_learner:AutoGluon will save models to \"AutogluonModels/ag-20221030_052719/\"\n",
            "INFO:autogluon.tabular.learner.default_learner:AutoGluon Version:  0.5.0\n",
            "INFO:autogluon.tabular.learner.default_learner:Python Version:     3.7.15\n",
            "INFO:autogluon.tabular.learner.default_learner:Operating System:   Linux\n",
            "INFO:autogluon.tabular.learner.default_learner:Train Data Rows:    61\n",
            "INFO:autogluon.tabular.learner.default_learner:Train Data Columns: 9\n",
            "INFO:autogluon.tabular.learner.default_learner:Label Column: SalesPrice\n",
            "INFO:autogluon.tabular.learner.default_learner:Preprocessing data ...\n",
            "Level 25:autogluon.core.utils.utils:AutoGluon infers your prediction problem is: 'regression' (because dtype of label-column == int and many unique label-values observed).\n",
            "INFO:autogluon.core.utils.utils:\tLabel info (max, min, mean, stddev): (2166684, 34715, 857600.7541, 486859.63078)\n",
            "Level 25:autogluon.core.utils.utils:\tIf 'regression' is not the correct problem_type, please manually specify the problem_type parameter during predictor init (You may specify problem_type as one of: ['binary', 'multiclass', 'regression'])\n",
            "INFO:autogluon.tabular.learner.default_learner:Using Feature Generators to preprocess the data ...\n",
            "INFO:autogluon.features.generators.abstract:Fitting AutoMLPipelineFeatureGenerator...\n",
            "INFO:autogluon.features.generators.abstract:\tAvailable Memory:                    11220.72 MB\n",
            "INFO:autogluon.features.generators.abstract:\tTrain Data (Original)  Memory Usage: 0.0 MB (0.0% of available memory)\n",
            "INFO:autogluon.features.generators.abstract:\tInferring data type of each feature based on column values. Set feature_metadata_in to manually specify special dtypes of the features.\n",
            "INFO:autogluon.features.generators.abstract:\tStage 1 Generators:\n",
            "INFO:autogluon.features.generators.abstract:\t\tFitting AsTypeFeatureGenerator...\n",
            "INFO:autogluon.features.generators.abstract:\t\t\tNote: Converting 8 features to boolean dtype as they only contain 2 unique values.\n",
            "INFO:autogluon.features.generators.abstract:\tStage 2 Generators:\n",
            "INFO:autogluon.features.generators.abstract:\t\tFitting FillNaFeatureGenerator...\n",
            "INFO:autogluon.features.generators.abstract:\tStage 3 Generators:\n",
            "INFO:autogluon.features.generators.abstract:\t\tFitting IdentityFeatureGenerator...\n",
            "INFO:autogluon.features.generators.abstract:\t\tFitting DatetimeFeatureGenerator...\n",
            "INFO:autogluon.features.generators.abstract:\tStage 4 Generators:\n",
            "INFO:autogluon.features.generators.abstract:\t\tFitting DropUniqueFeatureGenerator...\n",
            "INFO:autogluon.features.generators.abstract:\tTypes of features in original data (raw dtype, special dtypes):\n",
            "INFO:autogluon.common.features.feature_metadata:\t\t('datetime', []) : 1 | ['Time']\n",
            "INFO:autogluon.common.features.feature_metadata:\t\t('int', [])      : 8 | ['Month', 'DayOfWeek_Friday', 'DayOfWeek_Monday', 'DayOfWeek_Saturday', 'DayOfWeek_Sunday', ...]\n",
            "INFO:autogluon.features.generators.abstract:\tTypes of features in processed data (raw dtype, special dtypes):\n",
            "INFO:autogluon.common.features.feature_metadata:\t\t('int', ['bool'])            : 8 | ['Month', 'DayOfWeek_Friday', 'DayOfWeek_Monday', 'DayOfWeek_Saturday', 'DayOfWeek_Sunday', ...]\n",
            "INFO:autogluon.common.features.feature_metadata:\t\t('int', ['datetime_as_int']) : 4 | ['Time', 'Time.month', 'Time.day', 'Time.dayofweek']\n",
            "INFO:autogluon.features.generators.abstract:\t0.1s = Fit runtime\n",
            "INFO:autogluon.features.generators.abstract:\t9 features in original data used to generate 12 features in processed data.\n",
            "INFO:autogluon.features.generators.abstract:\tTrain Data (Processed) Memory Usage: 0.0 MB (0.0% of available memory)\n",
            "INFO:autogluon.tabular.learner.default_learner:Data preprocessing and feature engineering runtime = 0.11s ...\n",
            "Level 25:autogluon.core.trainer.abstract_trainer:AutoGluon will gauge predictive performance using evaluation metric: 'root_mean_squared_error'\n",
            "Level 25:autogluon.core.trainer.abstract_trainer:\tThis metric's sign has been flipped to adhere to being higher_is_better. The metric score can be multiplied by -1 to get the metric value.\n",
            "INFO:autogluon.core.trainer.abstract_trainer:\tTo change this, specify the eval_metric parameter of Predictor()\n",
            "INFO:autogluon.tabular.trainer.auto_trainer:Automatically generating train/validation split with holdout_frac=0.2, Train Rows: 48, Val Rows: 13\n",
            "INFO:autogluon.core.trainer.abstract_trainer:Fitting 11 L1 models ...\n",
            "INFO:autogluon.core.trainer.abstract_trainer:Fitting model: KNeighborsUnif ... Training model for up to 599.89s of the 599.88s of remaining time.\n",
            "INFO:autogluon.core.trainer.abstract_trainer:\t-565072.4908\t = Validation score   (-root_mean_squared_error)\n",
            "INFO:autogluon.core.trainer.abstract_trainer:\t0.01s\t = Training   runtime\n",
            "INFO:autogluon.core.trainer.abstract_trainer:\t0.1s\t = Validation runtime\n",
            "INFO:autogluon.core.trainer.abstract_trainer:Fitting model: KNeighborsDist ... Training model for up to 599.76s of the 599.76s of remaining time.\n",
            "INFO:autogluon.core.trainer.abstract_trainer:\t-539735.7873\t = Validation score   (-root_mean_squared_error)\n",
            "INFO:autogluon.core.trainer.abstract_trainer:\t0.01s\t = Training   runtime\n",
            "INFO:autogluon.core.trainer.abstract_trainer:\t0.11s\t = Validation runtime\n",
            "INFO:autogluon.core.trainer.abstract_trainer:Fitting model: LightGBMXT ... Training model for up to 599.64s of the 599.64s of remaining time.\n",
            "INFO:autogluon.core.trainer.abstract_trainer:\t-319998.3287\t = Validation score   (-root_mean_squared_error)\n",
            "INFO:autogluon.core.trainer.abstract_trainer:\t0.19s\t = Training   runtime\n",
            "INFO:autogluon.core.trainer.abstract_trainer:\t0.0s\t = Validation runtime\n",
            "INFO:autogluon.core.trainer.abstract_trainer:Fitting model: LightGBM ... Training model for up to 599.44s of the 599.43s of remaining time.\n",
            "INFO:autogluon.core.trainer.abstract_trainer:\t-345737.3706\t = Validation score   (-root_mean_squared_error)\n",
            "INFO:autogluon.core.trainer.abstract_trainer:\t0.12s\t = Training   runtime\n",
            "INFO:autogluon.core.trainer.abstract_trainer:\t0.0s\t = Validation runtime\n",
            "INFO:autogluon.core.trainer.abstract_trainer:Fitting model: RandomForestMSE ... Training model for up to 599.31s of the 599.3s of remaining time.\n",
            "INFO:autogluon.core.trainer.abstract_trainer:\t-236115.359\t = Validation score   (-root_mean_squared_error)\n",
            "INFO:autogluon.core.trainer.abstract_trainer:\t0.4s\t = Training   runtime\n",
            "INFO:autogluon.core.trainer.abstract_trainer:\t0.1s\t = Validation runtime\n",
            "INFO:autogluon.core.trainer.abstract_trainer:Fitting model: CatBoost ... Training model for up to 598.79s of the 598.79s of remaining time.\n",
            "INFO:autogluon.core.trainer.abstract_trainer:\t-334563.0541\t = Validation score   (-root_mean_squared_error)\n",
            "INFO:autogluon.core.trainer.abstract_trainer:\t0.16s\t = Training   runtime\n",
            "INFO:autogluon.core.trainer.abstract_trainer:\t0.0s\t = Validation runtime\n",
            "INFO:autogluon.core.trainer.abstract_trainer:Fitting model: ExtraTreesMSE ... Training model for up to 598.62s of the 598.62s of remaining time.\n",
            "INFO:autogluon.core.trainer.abstract_trainer:\t-249655.9999\t = Validation score   (-root_mean_squared_error)\n",
            "INFO:autogluon.core.trainer.abstract_trainer:\t0.4s\t = Training   runtime\n",
            "INFO:autogluon.core.trainer.abstract_trainer:\t0.1s\t = Validation runtime\n",
            "INFO:autogluon.core.trainer.abstract_trainer:Fitting model: NeuralNetFastAI ... Training model for up to 598.1s of the 598.1s of remaining time.\n",
            "INFO:autogluon.core.trainer.abstract_trainer:\t-282140.0272\t = Validation score   (-root_mean_squared_error)\n",
            "INFO:autogluon.core.trainer.abstract_trainer:\t2.87s\t = Training   runtime\n",
            "INFO:autogluon.core.trainer.abstract_trainer:\t0.01s\t = Validation runtime\n",
            "INFO:autogluon.core.trainer.abstract_trainer:Fitting model: XGBoost ... Training model for up to 595.2s of the 595.2s of remaining time.\n",
            "INFO:autogluon.core.trainer.abstract_trainer:\t-306142.4002\t = Validation score   (-root_mean_squared_error)\n",
            "INFO:autogluon.core.trainer.abstract_trainer:\t0.24s\t = Training   runtime\n",
            "INFO:autogluon.core.trainer.abstract_trainer:\t0.01s\t = Validation runtime\n",
            "INFO:autogluon.core.trainer.abstract_trainer:Fitting model: NeuralNetTorch ... Training model for up to 594.93s of the 594.93s of remaining time.\n",
            "INFO:autogluon.core.trainer.abstract_trainer:\t-305911.5608\t = Validation score   (-root_mean_squared_error)\n",
            "INFO:autogluon.core.trainer.abstract_trainer:\t0.45s\t = Training   runtime\n",
            "INFO:autogluon.core.trainer.abstract_trainer:\t0.01s\t = Validation runtime\n",
            "INFO:autogluon.core.trainer.abstract_trainer:Fitting model: LightGBMLarge ... Training model for up to 594.47s of the 594.47s of remaining time.\n",
            "INFO:autogluon.core.trainer.abstract_trainer:\t-251881.5338\t = Validation score   (-root_mean_squared_error)\n",
            "INFO:autogluon.core.trainer.abstract_trainer:\t0.17s\t = Training   runtime\n",
            "INFO:autogluon.core.trainer.abstract_trainer:\t0.0s\t = Validation runtime\n",
            "INFO:autogluon.core.trainer.abstract_trainer:Fitting model: WeightedEnsemble_L2 ... Training model for up to 360.0s of the 593.74s of remaining time.\n",
            "INFO:autogluon.core.trainer.abstract_trainer:\t-231314.0735\t = Validation score   (-root_mean_squared_error)\n",
            "INFO:autogluon.core.trainer.abstract_trainer:\t0.35s\t = Training   runtime\n",
            "INFO:autogluon.core.trainer.abstract_trainer:\t0.0s\t = Validation runtime\n",
            "INFO:autogluon.tabular.learner.default_learner:AutoGluon training complete, total runtime = 6.65s ... Best model: \"WeightedEnsemble_L2\"\n",
            "INFO:autogluon.tabular.predictor.predictor:TabularPredictor saved. To load, use: predictor = TabularPredictor.load(\"AutogluonModels/ag-20221030_052719/\")\n"
          ]
        }
      ]
    },
    {
      "cell_type": "code",
      "source": [
        "# 予測結果\n",
        "predictor.fit_summary()"
      ],
      "metadata": {
        "colab": {
          "base_uri": "https://localhost:8080/"
        },
        "id": "EM684EfUXBqy",
        "outputId": "c21d6a93-dcef-42c8-be0a-db27fd8aed8c"
      },
      "execution_count": 54,
      "outputs": [
        {
          "output_type": "stream",
          "name": "stdout",
          "text": [
            "*** Summary of fit() ***\n",
            "Estimated performance of each model:\n",
            "                  model      score_val  pred_time_val  fit_time  pred_time_val_marginal  fit_time_marginal  stack_level  can_infer  fit_order\n",
            "0   WeightedEnsemble_L2 -231314.073542       0.108683  1.111207                0.001046           0.352059            2       True         12\n",
            "1       RandomForestMSE -236115.358980       0.102767  0.395413                0.102767           0.395413            1       True          5\n",
            "2         ExtraTreesMSE -249655.999883       0.102700  0.400134                0.102700           0.400134            1       True          7\n",
            "3         LightGBMLarge -251881.533781       0.002260  0.170368                0.002260           0.170368            1       True         11\n",
            "4       NeuralNetFastAI -282140.027216       0.010459  2.866654                0.010459           2.866654            1       True          8\n",
            "5        NeuralNetTorch -305911.560773       0.006748  0.447918                0.006748           0.447918            1       True         10\n",
            "6               XGBoost -306142.400240       0.007453  0.244033                0.007453           0.244033            1       True          9\n",
            "7            LightGBMXT -319998.328689       0.002610  0.193367                0.002610           0.193367            1       True          3\n",
            "8              CatBoost -334563.054052       0.001724  0.160593                0.001724           0.160593            1       True          6\n",
            "9              LightGBM -345737.370551       0.002436  0.116222                0.002436           0.116222            1       True          4\n",
            "10       KNeighborsDist -539735.787323       0.105570  0.006282                0.105570           0.006282            1       True          2\n",
            "11       KNeighborsUnif -565072.490784       0.104949  0.014377                0.104949           0.014377            1       True          1\n",
            "Number of models trained: 12\n",
            "Types of models trained:\n",
            "{'XGBoostModel', 'KNNModel', 'RFModel', 'LGBModel', 'TabularNeuralNetTorchModel', 'WeightedEnsembleModel', 'NNFastAiTabularModel', 'XTModel', 'CatBoostModel'}\n",
            "Bagging used: False \n",
            "Multi-layer stack-ensembling used: False \n",
            "Feature Metadata (Processed):\n",
            "(raw dtype, special dtypes):\n",
            "('int', ['bool'])            : 8 | ['Month', 'DayOfWeek_Friday', 'DayOfWeek_Monday', 'DayOfWeek_Saturday', 'DayOfWeek_Sunday', ...]\n",
            "('int', ['datetime_as_int']) : 4 | ['Time', 'Time.month', 'Time.day', 'Time.dayofweek']\n",
            "Plot summary of models saved to file: AutogluonModels/ag-20221030_052719/SummaryOfModels.html\n",
            "*** End of fit() summary ***\n"
          ]
        },
        {
          "output_type": "execute_result",
          "data": {
            "text/plain": [
              "{'model_types': {'KNeighborsUnif': 'KNNModel',\n",
              "  'KNeighborsDist': 'KNNModel',\n",
              "  'LightGBMXT': 'LGBModel',\n",
              "  'LightGBM': 'LGBModel',\n",
              "  'RandomForestMSE': 'RFModel',\n",
              "  'CatBoost': 'CatBoostModel',\n",
              "  'ExtraTreesMSE': 'XTModel',\n",
              "  'NeuralNetFastAI': 'NNFastAiTabularModel',\n",
              "  'XGBoost': 'XGBoostModel',\n",
              "  'NeuralNetTorch': 'TabularNeuralNetTorchModel',\n",
              "  'LightGBMLarge': 'LGBModel',\n",
              "  'WeightedEnsemble_L2': 'WeightedEnsembleModel'},\n",
              " 'model_performance': {'KNeighborsUnif': -565072.490784473,\n",
              "  'KNeighborsDist': -539735.7873226466,\n",
              "  'LightGBMXT': -319998.3286885607,\n",
              "  'LightGBM': -345737.37055104144,\n",
              "  'RandomForestMSE': -236115.35897981026,\n",
              "  'CatBoost': -334563.05405218515,\n",
              "  'ExtraTreesMSE': -249655.9998834732,\n",
              "  'NeuralNetFastAI': -282140.0272163021,\n",
              "  'XGBoost': -306142.4002403183,\n",
              "  'NeuralNetTorch': -305911.5607725155,\n",
              "  'LightGBMLarge': -251881.53378130603,\n",
              "  'WeightedEnsemble_L2': -231314.0735420259},\n",
              " 'model_best': 'WeightedEnsemble_L2',\n",
              " 'model_paths': {'KNeighborsUnif': 'AutogluonModels/ag-20221030_052719/models/KNeighborsUnif/',\n",
              "  'KNeighborsDist': 'AutogluonModels/ag-20221030_052719/models/KNeighborsDist/',\n",
              "  'LightGBMXT': 'AutogluonModels/ag-20221030_052719/models/LightGBMXT/',\n",
              "  'LightGBM': 'AutogluonModels/ag-20221030_052719/models/LightGBM/',\n",
              "  'RandomForestMSE': 'AutogluonModels/ag-20221030_052719/models/RandomForestMSE/',\n",
              "  'CatBoost': 'AutogluonModels/ag-20221030_052719/models/CatBoost/',\n",
              "  'ExtraTreesMSE': 'AutogluonModels/ag-20221030_052719/models/ExtraTreesMSE/',\n",
              "  'NeuralNetFastAI': 'AutogluonModels/ag-20221030_052719/models/NeuralNetFastAI/',\n",
              "  'XGBoost': 'AutogluonModels/ag-20221030_052719/models/XGBoost/',\n",
              "  'NeuralNetTorch': 'AutogluonModels/ag-20221030_052719/models/NeuralNetTorch/',\n",
              "  'LightGBMLarge': 'AutogluonModels/ag-20221030_052719/models/LightGBMLarge/',\n",
              "  'WeightedEnsemble_L2': 'AutogluonModels/ag-20221030_052719/models/WeightedEnsemble_L2/'},\n",
              " 'model_fit_times': {'KNeighborsUnif': 0.014377355575561523,\n",
              "  'KNeighborsDist': 0.006281614303588867,\n",
              "  'LightGBMXT': 0.19336724281311035,\n",
              "  'LightGBM': 0.11622238159179688,\n",
              "  'RandomForestMSE': 0.3954129219055176,\n",
              "  'CatBoost': 0.16059255599975586,\n",
              "  'ExtraTreesMSE': 0.4001336097717285,\n",
              "  'NeuralNetFastAI': 2.866654396057129,\n",
              "  'XGBoost': 0.2440328598022461,\n",
              "  'NeuralNetTorch': 0.447918176651001,\n",
              "  'LightGBMLarge': 0.17036819458007812,\n",
              "  'WeightedEnsemble_L2': 0.35205912590026855},\n",
              " 'model_pred_times': {'KNeighborsUnif': 0.1049492359161377,\n",
              "  'KNeighborsDist': 0.10556983947753906,\n",
              "  'LightGBMXT': 0.002610445022583008,\n",
              "  'LightGBM': 0.0024361610412597656,\n",
              "  'RandomForestMSE': 0.10276675224304199,\n",
              "  'CatBoost': 0.0017237663269042969,\n",
              "  'ExtraTreesMSE': 0.10270023345947266,\n",
              "  'NeuralNetFastAI': 0.010458707809448242,\n",
              "  'XGBoost': 0.007452964782714844,\n",
              "  'NeuralNetTorch': 0.006748199462890625,\n",
              "  'LightGBMLarge': 0.0022597312927246094,\n",
              "  'WeightedEnsemble_L2': 0.0010464191436767578},\n",
              " 'num_bag_folds': 0,\n",
              " 'max_stack_level': 2,\n",
              " 'model_hyperparams': {'KNeighborsUnif': {'weights': 'uniform'},\n",
              "  'KNeighborsDist': {'weights': 'distance'},\n",
              "  'LightGBMXT': {'learning_rate': 0.05, 'extra_trees': True},\n",
              "  'LightGBM': {'learning_rate': 0.05},\n",
              "  'RandomForestMSE': {'n_estimators': 300,\n",
              "   'max_leaf_nodes': 15000,\n",
              "   'n_jobs': -1,\n",
              "   'random_state': 0,\n",
              "   'bootstrap': True,\n",
              "   'criterion': 'squared_error'},\n",
              "  'CatBoost': {'iterations': 10000,\n",
              "   'learning_rate': 0.05,\n",
              "   'random_seed': 0,\n",
              "   'allow_writing_files': False,\n",
              "   'eval_metric': 'RMSE'},\n",
              "  'ExtraTreesMSE': {'n_estimators': 300,\n",
              "   'max_leaf_nodes': 15000,\n",
              "   'n_jobs': -1,\n",
              "   'random_state': 0,\n",
              "   'bootstrap': True,\n",
              "   'criterion': 'squared_error'},\n",
              "  'NeuralNetFastAI': {'layers': None,\n",
              "   'emb_drop': 0.1,\n",
              "   'ps': 0.1,\n",
              "   'bs': 'auto',\n",
              "   'lr': 0.01,\n",
              "   'epochs': 'auto',\n",
              "   'early.stopping.min_delta': 0.0001,\n",
              "   'early.stopping.patience': 20,\n",
              "   'smoothing': 0.0},\n",
              "  'XGBoost': {'n_estimators': 10000,\n",
              "   'learning_rate': 0.1,\n",
              "   'n_jobs': -1,\n",
              "   'proc.max_category_levels': 100,\n",
              "   'objective': 'reg:squarederror',\n",
              "   'booster': 'gbtree'},\n",
              "  'NeuralNetTorch': {'num_epochs': 500,\n",
              "   'epochs_wo_improve': 20,\n",
              "   'activation': 'relu',\n",
              "   'embedding_size_factor': 1.0,\n",
              "   'embed_exponent': 0.56,\n",
              "   'max_embedding_dim': 100,\n",
              "   'y_range': None,\n",
              "   'y_range_extend': 0.05,\n",
              "   'dropout_prob': 0.1,\n",
              "   'optimizer': 'adam',\n",
              "   'learning_rate': 0.0003,\n",
              "   'weight_decay': 1e-06,\n",
              "   'proc.embed_min_categories': 4,\n",
              "   'proc.impute_strategy': 'median',\n",
              "   'proc.max_category_levels': 100,\n",
              "   'proc.skew_threshold': 0.99,\n",
              "   'use_ngram_features': False,\n",
              "   'num_layers': 4,\n",
              "   'hidden_size': 128,\n",
              "   'max_batch_size': 512,\n",
              "   'use_batchnorm': False,\n",
              "   'loss_function': 'auto'},\n",
              "  'LightGBMLarge': {'learning_rate': 0.03,\n",
              "   'num_leaves': 128,\n",
              "   'feature_fraction': 0.9,\n",
              "   'min_data_in_leaf': 5},\n",
              "  'WeightedEnsemble_L2': {'use_orig_features': False,\n",
              "   'max_base_models': 25,\n",
              "   'max_base_models_per_type': 5,\n",
              "   'save_bag_folds': True}},\n",
              " 'leaderboard':                   model      score_val  pred_time_val  fit_time  \\\n",
              " 0   WeightedEnsemble_L2 -231314.073542       0.108683  1.111207   \n",
              " 1       RandomForestMSE -236115.358980       0.102767  0.395413   \n",
              " 2         ExtraTreesMSE -249655.999883       0.102700  0.400134   \n",
              " 3         LightGBMLarge -251881.533781       0.002260  0.170368   \n",
              " 4       NeuralNetFastAI -282140.027216       0.010459  2.866654   \n",
              " 5        NeuralNetTorch -305911.560773       0.006748  0.447918   \n",
              " 6               XGBoost -306142.400240       0.007453  0.244033   \n",
              " 7            LightGBMXT -319998.328689       0.002610  0.193367   \n",
              " 8              CatBoost -334563.054052       0.001724  0.160593   \n",
              " 9              LightGBM -345737.370551       0.002436  0.116222   \n",
              " 10       KNeighborsDist -539735.787323       0.105570  0.006282   \n",
              " 11       KNeighborsUnif -565072.490784       0.104949  0.014377   \n",
              " \n",
              "     pred_time_val_marginal  fit_time_marginal  stack_level  can_infer  \\\n",
              " 0                 0.001046           0.352059            2       True   \n",
              " 1                 0.102767           0.395413            1       True   \n",
              " 2                 0.102700           0.400134            1       True   \n",
              " 3                 0.002260           0.170368            1       True   \n",
              " 4                 0.010459           2.866654            1       True   \n",
              " 5                 0.006748           0.447918            1       True   \n",
              " 6                 0.007453           0.244033            1       True   \n",
              " 7                 0.002610           0.193367            1       True   \n",
              " 8                 0.001724           0.160593            1       True   \n",
              " 9                 0.002436           0.116222            1       True   \n",
              " 10                0.105570           0.006282            1       True   \n",
              " 11                0.104949           0.014377            1       True   \n",
              " \n",
              "     fit_order  \n",
              " 0          12  \n",
              " 1           5  \n",
              " 2           7  \n",
              " 3          11  \n",
              " 4           8  \n",
              " 5          10  \n",
              " 6           9  \n",
              " 7           3  \n",
              " 8           6  \n",
              " 9           4  \n",
              " 10          2  \n",
              " 11          1  }"
            ]
          },
          "metadata": {},
          "execution_count": 54
        }
      ]
    },
    {
      "cell_type": "code",
      "source": [
        "# 予測モデル適用\n",
        "\n",
        "df_total = df1.copy()\n",
        "\n",
        "df_actual = df_total.pop(\"SalesPrice\")\n",
        "df_predict = predictor.predict(df_total)"
      ],
      "metadata": {
        "id": "ah9tW-eQYQ3G"
      },
      "execution_count": null,
      "outputs": []
    },
    {
      "cell_type": "code",
      "source": [
        "# 予測結果見える化\n",
        "# 統計値\n",
        "\n",
        "from sklearn.metrics import mean_squared_error\n",
        "from sklearn.metrics import r2_score\n",
        "\n",
        "print(\"MSE:{}\".format(mean_squared_error(df_actual, df_predict)))\n",
        "print(\"決定係数:{}\".format(r2_score(df_actual, df_predict)))"
      ],
      "metadata": {
        "colab": {
          "base_uri": "https://localhost:8080/"
        },
        "id": "2eN2AHxdYk9L",
        "outputId": "2f646b6a-3134-484f-9c73-22138b0c2a31"
      },
      "execution_count": 58,
      "outputs": [
        {
          "output_type": "stream",
          "name": "stdout",
          "text": [
            "MSE:245839241992.66925\n",
            "決定係数:0.09471253898862153\n"
          ]
        }
      ]
    },
    {
      "cell_type": "code",
      "source": [
        "# 予測結果見える化\n",
        "# 散布図\n",
        "\n",
        "plt.figure(figsize=(10, 8))\n",
        "sns.set(style=\"darkgrid\")\n",
        "ax = sns.scatterplot(x=df_actual,y=df_predict)"
      ],
      "metadata": {
        "colab": {
          "base_uri": "https://localhost:8080/",
          "height": 513
        },
        "id": "PBK75CYRXNIB",
        "outputId": "75c807c1-87ac-4f42-f4ca-f1bddf5b23f0"
      },
      "execution_count": 57,
      "outputs": [
        {
          "output_type": "display_data",
          "data": {
            "text/plain": [
              "<Figure size 720x576 with 1 Axes>"
            ],
            "image/png": "[encoded data removed]"
          },
          "metadata": {
            "needs_background": "light"
          }
        }
      ]
    },
    {
      "cell_type": "markdown",
      "source": [],
      "metadata": {
        "id": "1hbZUCgnb-2w"
      }
    },
    {
      "cell_type": "markdown",
      "source": [
        "# Prophet"
      ],
      "metadata": {
        "id": "8Y5GYK8gZvlx"
      }
    },
    {
      "cell_type": "code",
      "source": [
        "from prophet import Prophet"
      ],
      "metadata": {
        "id": "NMr8FJGtZ70L"
      },
      "execution_count": null,
      "outputs": []
    },
    {
      "cell_type": "code",
      "source": [
        "# Prophet用にデータ加工\n",
        "\n",
        "df_train = df_train.rename(columns={'SalesPrice': 'y','Time': 'ds'})\n",
        "df_test = df_test.rename(columns={'SalesPrice': 'y','Time': 'ds'})"
      ],
      "metadata": {
        "id": "yOFs9e9VaHKM"
      },
      "execution_count": 75,
      "outputs": []
    },
    {
      "cell_type": "code",
      "source": [
        "# CAPつけるための、過去最大金額\n",
        "df[\"SalesPrice\"].max()"
      ],
      "metadata": {
        "colab": {
          "base_uri": "https://localhost:8080/"
        },
        "id": "nPQXqhjzZuuM",
        "outputId": "036676be-2dd4-4c45-f63d-23d2ab51a166"
      },
      "execution_count": 77,
      "outputs": [
        {
          "output_type": "execute_result",
          "data": {
            "text/plain": [
              "444000"
            ]
          },
          "metadata": {},
          "execution_count": 77
        }
      ]
    },
    {
      "cell_type": "code",
      "source": [
        "# 予測実施\n",
        "model = Prophet(growth='logistic', daily_seasonality=False)\n",
        "model.add_country_holidays(country_name=\"JP\")\n",
        "model.add_seasonality(name='monthly', period=30.5, fourier_order=5)\n",
        "\n",
        "# 予測に追加する変数\n",
        "features_list =[\"Month\",\"DayOfWeek_Friday\",\"DayOfWeek_Monday\",\"DayOfWeek_Saturday\",\"DayOfWeek_Sunday\",\"DayOfWeek_Thursday\",\"DayOfWeek_Tuesday\",\"DayOfWeek_Wednesday\"]\n",
        "\n",
        "for f in features_list:\n",
        "  model.add_regressor(f)\n",
        "\n",
        "df_train['cap']=500000 #非線形の場合はCAP必須\n",
        "\n",
        "model.fit(df_train)"
      ],
      "metadata": {
        "colab": {
          "base_uri": "https://localhost:8080/"
        },
        "id": "rnfacAb5Zugh",
        "outputId": "d0204c0b-1794-4978-f5e9-45ccfd827268"
      },
      "execution_count": 81,
      "outputs": [
        {
          "output_type": "stream",
          "name": "stderr",
          "text": [
            "INFO:prophet:Disabling yearly seasonality. Run prophet with yearly_seasonality=True to override this.\n",
            "DEBUG:cmdstanpy:input tempfile: /tmp/tmpiamyn8gk/7bs53g08.json\n",
            "DEBUG:cmdstanpy:input tempfile: /tmp/tmpiamyn8gk/4dds9hk8.json\n",
            "DEBUG:cmdstanpy:idx 0\n",
            "DEBUG:cmdstanpy:running CmdStan, num_threads: None\n",
            "DEBUG:cmdstanpy:CmdStan args: ['/usr/local/lib/python3.7/dist-packages/prophet/stan_model/prophet_model.bin', 'random', 'seed=68898', 'data', 'file=/tmp/tmpiamyn8gk/7bs53g08.json', 'init=/tmp/tmpiamyn8gk/4dds9hk8.json', 'output', 'file=/tmp/tmpiamyn8gk/prophet_modelp4x6a_0_/prophet_model-20221030055618.csv', 'method=optimize', 'algorithm=newton', 'iter=10000']\n",
            "05:56:18 - cmdstanpy - INFO - Chain [1] start processing\n",
            "INFO:cmdstanpy:Chain [1] start processing\n",
            "05:56:18 - cmdstanpy - INFO - Chain [1] done processing\n",
            "INFO:cmdstanpy:Chain [1] done processing\n"
          ]
        },
        {
          "output_type": "execute_result",
          "data": {
            "text/plain": [
              "<prophet.forecaster.Prophet at 0x7f6a4afd7c10>"
            ]
          },
          "metadata": {},
          "execution_count": 81
        }
      ]
    },
    {
      "cell_type": "code",
      "source": [
        "future = model.make_future_dataframe(periods=30, freq='D')\n",
        "future[\"cap\"]=500000\n",
        "future=pd.merge(future, df_test, on=\"ds\")\n",
        "\n",
        "df_forecast = model.predict(future)"
      ],
      "metadata": {
        "id": "BAW6_JEXdmld"
      },
      "execution_count": 88,
      "outputs": []
    },
    {
      "cell_type": "code",
      "source": [
        "df_forecast.head(3)"
      ],
      "metadata": {
        "colab": {
          "base_uri": "https://localhost:8080/",
          "height": 341
        },
        "id": "wqTkCKb4fiSi",
        "outputId": "06bfe511-2ea7-4947-ab1d-a0da81471d04"
      },
      "execution_count": 96,
      "outputs": [
        {
          "output_type": "execute_result",
          "data": {
            "text/plain": [
              "          ds          trend     cap    yhat_lower    yhat_upper  \\\n",
              "0 2001-01-01  499790.184509  500000  5.406454e+06  5.990532e+06   \n",
              "1 2001-01-02  499823.112121  500000  5.591074e+06  6.178879e+06   \n",
              "2 2001-01-03  499850.873746  500000  5.678651e+06  6.263560e+06   \n",
              "\n",
              "     trend_lower    trend_upper  DayOfWeek_Friday  DayOfWeek_Friday_lower  \\\n",
              "0  499790.184509  499790.184509               0.0                     0.0   \n",
              "1  499823.112121  499823.112121               0.0                     0.0   \n",
              "2  499850.873746  499850.873746               0.0                     0.0   \n",
              "\n",
              "   DayOfWeek_Friday_upper  ...  海の日  海の日_lower  海の日_upper  秋分の日  秋分の日_lower  \\\n",
              "0                     0.0  ...  0.0        0.0        0.0   0.0         0.0   \n",
              "1                     0.0  ...  0.0        0.0        0.0   0.0         0.0   \n",
              "2                     0.0  ...  0.0        0.0        0.0   0.0         0.0   \n",
              "\n",
              "   秋分の日_upper  multiplicative_terms  multiplicative_terms_lower  \\\n",
              "0         0.0                   0.0                         0.0   \n",
              "1         0.0                   0.0                         0.0   \n",
              "2         0.0                   0.0                         0.0   \n",
              "\n",
              "   multiplicative_terms_upper          yhat  \n",
              "0                         0.0  5.697760e+06  \n",
              "1                         0.0  5.887750e+06  \n",
              "2                         0.0  5.963691e+06  \n",
              "\n",
              "[3 rows x 95 columns]"
            ],
            "text/html": [
              "\n",
              "  <div id=\"df-697502b0-ac62-4289-8e8a-89e7a6ab9bd7\">\n",
              "    <div class=\"colab-df-container\">\n",
              "      <div>\n",
              "<style scoped>\n",
              "    .dataframe tbody tr th:only-of-type {\n",
              "        vertical-align: middle;\n",
              "    }\n",
              "\n",
              "    .dataframe tbody tr th {\n",
              "        vertical-align: top;\n",
              "    }\n",
              "\n",
              "    .dataframe thead th {\n",
              "        text-align: right;\n",
              "    }\n",
              "</style>\n",
              "<table border=\"1\" class=\"dataframe\">\n",
              "  <thead>\n",
              "    <tr style=\"text-align: right;\">\n",
              "      <th></th>\n",
              "      <th>ds</th>\n",
              "      <th>trend</th>\n",
              "      <th>cap</th>\n",
              "      <th>yhat_lower</th>\n",
              "      <th>yhat_upper</th>\n",
              "      <th>trend_lower</th>\n",
              "      <th>trend_upper</th>\n",
              "      <th>DayOfWeek_Friday</th>\n",
              "      <th>DayOfWeek_Friday_lower</th>\n",
              "      <th>DayOfWeek_Friday_upper</th>\n",
              "      <th>...</th>\n",
              "      <th>海の日</th>\n",
              "      <th>海の日_lower</th>\n",
              "      <th>海の日_upper</th>\n",
              "      <th>秋分の日</th>\n",
              "      <th>秋分の日_lower</th>\n",
              "      <th>秋分の日_upper</th>\n",
              "      <th>multiplicative_terms</th>\n",
              "      <th>multiplicative_terms_lower</th>\n",
              "      <th>multiplicative_terms_upper</th>\n",
              "      <th>yhat</th>\n",
              "    </tr>\n",
              "  </thead>\n",
              "  <tbody>\n",
              "    <tr>\n",
              "      <th>0</th>\n",
              "      <td>2001-01-01</td>\n",
              "      <td>499790.184509</td>\n",
              "      <td>500000</td>\n",
              "      <td>5.406454e+06</td>\n",
              "      <td>5.990532e+06</td>\n",
              "      <td>499790.184509</td>\n",
              "      <td>499790.184509</td>\n",
              "      <td>0.0</td>\n",
              "      <td>0.0</td>\n",
              "      <td>0.0</td>\n",
              "      <td>...</td>\n",
              "      <td>0.0</td>\n",
              "      <td>0.0</td>\n",
              "      <td>0.0</td>\n",
              "      <td>0.0</td>\n",
              "      <td>0.0</td>\n",
              "      <td>0.0</td>\n",
              "      <td>0.0</td>\n",
              "      <td>0.0</td>\n",
              "      <td>0.0</td>\n",
              "      <td>5.697760e+06</td>\n",
              "    </tr>\n",
              "    <tr>\n",
              "      <th>1</th>\n",
              "      <td>2001-01-02</td>\n",
              "      <td>499823.112121</td>\n",
              "      <td>500000</td>\n",
              "      <td>5.591074e+06</td>\n",
              "      <td>6.178879e+06</td>\n",
              "      <td>499823.112121</td>\n",
              "      <td>499823.112121</td>\n",
              "      <td>0.0</td>\n",
              "      <td>0.0</td>\n",
              "      <td>0.0</td>\n",
              "      <td>...</td>\n",
              "      <td>0.0</td>\n",
              "      <td>0.0</td>\n",
              "      <td>0.0</td>\n",
              "      <td>0.0</td>\n",
              "      <td>0.0</td>\n",
              "      <td>0.0</td>\n",
              "      <td>0.0</td>\n",
              "      <td>0.0</td>\n",
              "      <td>0.0</td>\n",
              "      <td>5.887750e+06</td>\n",
              "    </tr>\n",
              "    <tr>\n",
              "      <th>2</th>\n",
              "      <td>2001-01-03</td>\n",
              "      <td>499850.873746</td>\n",
              "      <td>500000</td>\n",
              "      <td>5.678651e+06</td>\n",
              "      <td>6.263560e+06</td>\n",
              "      <td>499850.873746</td>\n",
              "      <td>499850.873746</td>\n",
              "      <td>0.0</td>\n",
              "      <td>0.0</td>\n",
              "      <td>0.0</td>\n",
              "      <td>...</td>\n",
              "      <td>0.0</td>\n",
              "      <td>0.0</td>\n",
              "      <td>0.0</td>\n",
              "      <td>0.0</td>\n",
              "      <td>0.0</td>\n",
              "      <td>0.0</td>\n",
              "      <td>0.0</td>\n",
              "      <td>0.0</td>\n",
              "      <td>0.0</td>\n",
              "      <td>5.963691e+06</td>\n",
              "    </tr>\n",
              "  </tbody>\n",
              "</table>\n",
              "<p>3 rows × 95 columns</p>\n",
              "</div>\n",
              "      <button class=\"colab-df-convert\" onclick=\"convertToInteractive('df-697502b0-ac62-4289-8e8a-89e7a6ab9bd7')\"\n",
              "              title=\"Convert this dataframe to an interactive table.\"\n",
              "              style=\"display:none;\">\n",
              "        \n",
              "  <svg xmlns=\"http://www.w3.org/2000/svg\" height=\"24px\"viewBox=\"0 0 24 24\"\n",
              "       width=\"24px\">\n",
              "    <path d=\"M0 0h24v24H0V0z\" fill=\"none\"/>\n",
              "    <path d=\"M18.56 5.44l.94 2.06.94-2.06 2.06-.94-2.06-.94-.94-2.06-.94 2.06-2.06.94zm-11 1L8.5 8.5l.94-2.06 2.06-.94-2.06-.94L8.5 2.5l-.94 2.06-2.06.94zm10 10l.94 2.06.94-2.06 2.06-.94-2.06-.94-.94-2.06-.94 2.06-2.06.94z\"/><path d=\"M17.41 7.96l-1.37-1.37c-.4-.4-.92-.59-1.43-.59-.52 0-1.04.2-1.43.59L10.3 9.45l-7.72 7.72c-.78.78-.78 2.05 0 2.83L4 21.41c.39.39.9.59 1.41.59.51 0 1.02-.2 1.41-.59l7.78-7.78 2.81-2.81c.8-.78.8-2.07 0-2.86zM5.41 20L4 18.59l7.72-7.72 1.47 1.35L5.41 20z\"/>\n",
              "  </svg>\n",
              "      </button>\n",
              "      \n",
              "  <style>\n",
              "    .colab-df-container {\n",
              "      display:flex;\n",
              "      flex-wrap:wrap;\n",
              "      gap: 12px;\n",
              "    }\n",
              "\n",
              "    .colab-df-convert {\n",
              "      background-color: #E8F0FE;\n",
              "      border: none;\n",
              "      border-radius: 50%;\n",
              "      cursor: pointer;\n",
              "      display: none;\n",
              "      fill: #1967D2;\n",
              "      height: 32px;\n",
              "      padding: 0 0 0 0;\n",
              "      width: 32px;\n",
              "    }\n",
              "\n",
              "    .colab-df-convert:hover {\n",
              "      background-color: #E2EBFA;\n",
              "      box-shadow: 0px 1px 2px rgba(60, 64, 67, 0.3), 0px 1px 3px 1px rgba(60, 64, 67, 0.15);\n",
              "      fill: #174EA6;\n",
              "    }\n",
              "\n",
              "    [theme=dark] .colab-df-convert {\n",
              "      background-color: #3B4455;\n",
              "      fill: #D2E3FC;\n",
              "    }\n",
              "\n",
              "    [theme=dark] .colab-df-convert:hover {\n",
              "      background-color: #434B5C;\n",
              "      box-shadow: 0px 1px 3px 1px rgba(0, 0, 0, 0.15);\n",
              "      filter: drop-shadow(0px 1px 2px rgba(0, 0, 0, 0.3));\n",
              "      fill: #FFFFFF;\n",
              "    }\n",
              "  </style>\n",
              "\n",
              "      <script>\n",
              "        const buttonEl =\n",
              "          document.querySelector('#df-697502b0-ac62-4289-8e8a-89e7a6ab9bd7 button.colab-df-convert');\n",
              "        buttonEl.style.display =\n",
              "          google.colab.kernel.accessAllowed ? 'block' : 'none';\n",
              "\n",
              "        async function convertToInteractive(key) {\n",
              "          const element = document.querySelector('#df-697502b0-ac62-4289-8e8a-89e7a6ab9bd7');\n",
              "          const dataTable =\n",
              "            await google.colab.kernel.invokeFunction('convertToInteractive',\n",
              "                                                     [key], {});\n",
              "          if (!dataTable) return;\n",
              "\n",
              "          const docLinkHtml = 'Like what you see? Visit the ' +\n",
              "            '<a target=\"_blank\" href=https://colab.research.google.com/notebooks/data_table.ipynb>data table notebook</a>'\n",
              "            + ' to learn more about interactive tables.';\n",
              "          element.innerHTML = '';\n",
              "          dataTable['output_type'] = 'display_data';\n",
              "          await google.colab.output.renderOutput(dataTable, element);\n",
              "          const docLink = document.createElement('div');\n",
              "          docLink.innerHTML = docLinkHtml;\n",
              "          element.appendChild(docLink);\n",
              "        }\n",
              "      </script>\n",
              "    </div>\n",
              "  </div>\n",
              "  "
            ]
          },
          "metadata": {},
          "execution_count": 96
        }
      ]
    },
    {
      "cell_type": "code",
      "source": [
        "# forecastとactualをマージ\n",
        "\n",
        "df_output=pd.merge(df_forecast, df_test, on=\"ds\")\n",
        "\n",
        "gap_abs = 0\n",
        "gap_all = 0\n",
        "\n",
        "for index, row in df_output.iterrows():\n",
        "  gap_abs = gap_abs + abs(row[\"yhat\"] - row[\"y\"])\n",
        "  gap_all = gap_all+ (row[\"yhat\"] - row[\"y\"])\n",
        "\n",
        "print(gap_abs)\n",
        "print(gap_all)"
      ],
      "metadata": {
        "id": "9wXyTjefeJcG"
      },
      "execution_count": null,
      "outputs": []
    },
    {
      "cell_type": "code",
      "source": [
        "pd.plotting.register_matplotlib_converters()\n",
        "df_output.plot(figsize=(18, 12), x=\"ds\", y=[\"yhat\",\"y\"])"
      ],
      "metadata": {
        "colab": {
          "base_uri": "https://localhost:8080/",
          "height": 661
        },
        "id": "CwPKAXGxfbbN",
        "outputId": "aea43812-89dc-4864-9324-c836d08e8eb2"
      },
      "execution_count": 95,
      "outputs": [
        {
          "output_type": "execute_result",
          "data": {
            "text/plain": [
              "<matplotlib.axes._subplots.AxesSubplot at 0x7f6a4ae09d10>"
            ]
          },
          "metadata": {},
          "execution_count": 95
        },
        {
          "output_type": "display_data",
          "data": {
            "text/plain": [
              "<Figure size 1296x864 with 1 Axes>"
            ],
            "image/png": "[encoded data removed]"
          },
          "metadata": {}
        }
      ]
    },
    {
      "cell_type": "markdown",
      "metadata": {
        "id": "VU_BxfHCPPQt"
      },
      "source": [
        "# Merlion\n"
      ]
    },
    {
      "cell_type": "code",
      "source": [
        "from merlion.utils import TimeSeries\n",
        "from merlion.models.defaults import DefaultForecasterConfig, DefaultForecaster"
      ],
      "metadata": {
        "id": "t2ax5zOngqPa"
      },
      "execution_count": 98,
      "outputs": []
    },
    {
      "cell_type": "code",
      "source": [
        "# Merlion用にデータ加工\n",
        "\n",
        "train_ts = TimeSeries.from_pd(df_train[[\"Time\",\"SalesPrice\"]].set_index(\"Time\"))\n",
        "val_ts = TimeSeries.from_pd(df_test[[\"Time\",\"SalesPrice\"]].set_index(\"Time\"))"
      ],
      "metadata": {
        "id": "qIraPeK3gsvV"
      },
      "execution_count": 113,
      "outputs": []
    },
    {
      "cell_type": "code",
      "source": [
        "train_ts"
      ],
      "metadata": {
        "colab": {
          "base_uri": "https://localhost:8080/"
        },
        "id": "SFQuGGVFh2D0",
        "outputId": "da3e184e-bc1f-441e-b39f-77b453acb743"
      },
      "execution_count": 114,
      "outputs": [
        {
          "output_type": "execute_result",
          "data": {
            "text/plain": [
              "            SalesPrice\n",
              "time                  \n",
              "2000-11-01     96614.0\n",
              "2000-11-02    892411.0\n",
              "2000-11-03    963306.0\n",
              "2000-11-04   1264999.0\n",
              "2000-11-05   1763728.0\n",
              "...                ...\n",
              "2000-12-27   1020150.0\n",
              "2000-12-28    870346.0\n",
              "2000-12-29    448086.0\n",
              "2000-12-30    769653.0\n",
              "2000-12-31   1543617.0\n",
              "\n",
              "[61 rows x 1 columns]"
            ]
          },
          "metadata": {},
          "execution_count": 114
        }
      ]
    },
    {
      "cell_type": "code",
      "source": [
        "# 予測実施\n",
        "\n",
        "## DefaultForecasterモデルのセット\n",
        "model = DefaultForecaster(DefaultForecasterConfig())\n",
        "model.train(train_data=train_ts)"
      ],
      "metadata": {
        "id": "NzE4Zr9CivWv"
      },
      "execution_count": null,
      "outputs": []
    },
    {
      "cell_type": "code",
      "source": [
        "# 予測モデル適用\n",
        "test_pred, test_err = model.forecast(time_stamps=val_ts.time_stamps)"
      ],
      "metadata": {
        "id": "aAdcYC2phjTR"
      },
      "execution_count": 115,
      "outputs": []
    },
    {
      "cell_type": "code",
      "source": [
        "fig, ax = model.plot_forecast(time_series=val_ts, plot_forecast_uncertainty=True)\n",
        "# 表示\n",
        "plt.show()"
      ],
      "metadata": {
        "colab": {
          "base_uri": "https://localhost:8080/",
          "height": 437
        },
        "id": "hT-8B7rCiVqZ",
        "outputId": "8860c1c1-bf43-4660-9667-51d191112285"
      },
      "execution_count": 116,
      "outputs": [
        {
          "output_type": "display_data",
          "data": {
            "text/plain": [
              "<Figure size 720x432 with 1 Axes>"
            ],
            "image/png": "[encoded data removed]"
          },
          "metadata": {}
        }
      ]
    }
  ]
}